{
 "cells": [
  {
   "cell_type": "code",
   "execution_count": null,
   "id": "df2760aa-d479-4717-80e7-7df5c2130453",
   "metadata": {},
   "outputs": [],
   "source": [
    "def entasser(arr, n, i):\n",
    "  \n",
    "    plus_grand = i  \n",
    "    gauche = 2 * i + 1  \n",
    "    droite = 2 * i + 2  \n",
    "\n",
    "    \n",
    "    if gauche < n and arr[gauche] > arr[plus_grand]:\n",
    "        plus_grand = gauche\n",
    "\n",
    "    \n",
    "    if droite < n and arr[droite] > arr[plus_grand]:\n",
    "        plus_grand = droite\n",
    "\n",
    "   \n",
    "    if plus_grand != i:\n",
    "        arr[i], arr[plus_grand] = arr[plus_grand], arr[i] \n",
    "        entasser(arr, n, plus_grand)\n"
   ]
  },
  {
   "cell_type": "code",
   "execution_count": null,
   "id": "9a545b7b-4ca3-4731-8e8c-a1b72ee2291a",
   "metadata": {},
   "outputs": [],
   "source": [
    "def construire_tas(arr):\n",
    "   \n",
    "    n = len(arr)\n",
    "    for i in range(n // 2 - 1, -1, -1):\n",
    "        entasser(arr, n, i)\n"
   ]
  },
  {
   "cell_type": "code",
   "execution_count": null,
   "id": "38eb4e3e-e4e5-48ed-8bd9-f79866e10eb4",
   "metadata": {},
   "outputs": [],
   "source": [
    "def tri_par_tas(arr):\n",
    "   \n",
    "    n = len(arr)\n",
    "\n",
    "    construire_tas(arr)\n",
    "\n",
    "    for i in range(n - 1, 0, -1):\n",
    "        arr[0], arr[i] = arr[i], arr[0]\n",
    "        entasser(arr, i, 0)\n"
   ]
  },
  {
   "cell_type": "code",
   "execution_count": null,
   "id": "eaeb042a-1b82-41c0-bd3e-a34c36f4de1f",
   "metadata": {},
   "outputs": [
    {
     "name": "stdout",
     "output_type": "stream",
     "text": [
      "Tas max : [40, 35, 25, 30, 20, 10, 5, 22, 18, 12]\n",
      "Tableau trié : [5, 10, 12, 18, 20, 22, 25, 30, 35, 40]\n"
     ]
    }
   ],
   "source": [
    "tableau = [10, 22, 5, 18, 20, 25, 40, 30, 35, 12]\n",
    "\n",
    "construire_tas(tableau)\n",
    "print(\"Tas max :\", tableau)\n",
    "\n",
    "tri_par_tas(tableau)\n",
    "print(\"Tableau trié :\", tableau)\n"
   ]
  },
  {
   "cell_type": "code",
   "execution_count": null,
   "id": "675607c5-05c5-424b-9225-f9745386874c",
   "metadata": {},
   "outputs": [],
   "source": [
    "def supprimer_racine(arr):\n",
    "   \n",
    "    n = len(arr)\n",
    "    if n == 0:\n",
    "        raise IndexError(\"Le tas est vide !\")\n",
    "\n",
    "    racine = arr[0]\n",
    "\n",
    "    arr[0] = arr[n - 1]\n",
    "    arr.pop()  \n",
    "    entasser(arr, len(arr), 0)\n",
    "\n",
    "    return racine\n"
   ]
  },
  {
   "cell_type": "code",
   "execution_count": null,
   "id": "df1ccb5c-2d3f-466d-b42d-f3267d2be2e1",
   "metadata": {},
   "outputs": [
    {
     "name": "stdout",
     "output_type": "stream",
     "text": [
      "Racine supprimée : 40\n",
      "Tas après suppression : [35, 30, 25, 22, 20, 10, 5, 12, 18]\n"
     ]
    }
   ],
   "source": [
    "tas = [40, 35, 25, 30, 20, 10, 5, 22, 18, 12]\n",
    "\n",
    "racine_supprimee = supprimer_racine(tas)\n",
    "print(\"Racine supprimée :\", racine_supprimee)\n",
    "print(\"Tas après suppression :\", tas)\n"
   ]
  }
 ],
 "metadata": {
  "kernelspec": {
   "display_name": "Python 3 (ipykernel)",
   "language": "python",
   "name": "python3"
  },
  "language_info": {
   "codemirror_mode": {
    "name": "ipython",
    "version": 3
   },
   "file_extension": ".py",
   "mimetype": "text/x-python",
   "name": "python",
   "nbconvert_exporter": "python",
   "pygments_lexer": "ipython3",
   "version": "3.12.4"
  }
 },
 "nbformat": 4,
 "nbformat_minor": 5
}
